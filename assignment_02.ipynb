{
 "cells": [
  {
   "cell_type": "markdown",
   "id": "65d3fdb9",
   "metadata": {},
   "source": [
    "# 위 문제에서 얻을 것\n",
    "\n",
    "### 문제 알고리즘은 매우 쉬웠다 그러나 계속해서 틀린 이유는 \n",
    "### 아래 문장의 의미를 명확히 하지 않아서 \n",
    ">입력은 여러개의 테스트 케이스로 이루어져 있다, 각 테스트 케이스는 한줄로 이루어져 있다\n",
    "\n",
    "## 위 문제의 해결방법\n",
    "1. sys.stdin 사용\n",
    "sys 모듈 import 하면 EOF 들어올시 반복이 중지됨, ide 상에서는 ctrl+z가 EOF\n",
    "\n",
    "2. try ~ except 문 이용\n",
    "예외처리 구문으로 에러 발생하면 except 블록 실행 (아무것도 입력 안하고 엔터 쳤을때 종료됨)\n",
    "                "
   ]
  },
  {
   "cell_type": "code",
   "execution_count": 1,
   "id": "45d94b1a",
   "metadata": {},
   "outputs": [
    {
     "name": "stdout",
     "output_type": "stream",
     "text": [
      "3\n",
      "3\n",
      "7\n",
      "6\n",
      "9901\n",
      "12\n",
      "3\n",
      "3\n",
      "-1\n",
      "1\n",
      "\n"
     ]
    }
   ],
   "source": [
    "while True:\n",
    "    try:\n",
    "        n = int(input())\n",
    "    except:\n",
    "        break\n",
    "    ones = 0\n",
    "    count = 0\n",
    "    \n",
    "    while True:\n",
    "        ones = ones*10+1\n",
    "        count+=1\n",
    "        if(ones%n==0):\n",
    "            print(count)\n",
    "            break"
   ]
  },
  {
   "cell_type": "code",
   "execution_count": null,
   "id": "893e6387",
   "metadata": {},
   "outputs": [],
   "source": [
    "\n",
    "\n"
   ]
  },
  {
   "cell_type": "code",
   "execution_count": null,
   "id": "2b35ab0b",
   "metadata": {},
   "outputs": [],
   "source": []
  }
 ],
 "metadata": {
  "kernelspec": {
   "display_name": "Python 3 (ipykernel)",
   "language": "python",
   "name": "python3"
  },
  "language_info": {
   "codemirror_mode": {
    "name": "ipython",
    "version": 3
   },
   "file_extension": ".py",
   "mimetype": "text/x-python",
   "name": "python",
   "nbconvert_exporter": "python",
   "pygments_lexer": "ipython3",
   "version": "3.8.16"
  }
 },
 "nbformat": 4,
 "nbformat_minor": 5
}
