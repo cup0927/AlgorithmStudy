{
 "cells": [
  {
   "cell_type": "markdown",
   "id": "f3704b62",
   "metadata": {},
   "source": [
    "# 소수를 구하는 방법\n",
    "\n",
    "## 1) 무식하게\n",
    "소수 판정을 위한 가장 간단한 알고리즘 : 2 ~ 입력값 -1 까지 나눠떨어지는 수 없으면 \n",
    "근데 이러면 문제 범위 전부를 for문으로 돌아야 함(비효율 적)\n",
    "\n",
    "-> 알고리즘 개선 가능"
   ]
  },
  {
   "cell_type": "code",
   "execution_count": 6,
   "id": "01f32bb3",
   "metadata": {},
   "outputs": [
    {
     "name": "stdout",
     "output_type": "stream",
     "text": [
      "1 10\n",
      "2\n",
      "3\n",
      "5\n",
      "7\n"
     ]
    }
   ],
   "source": [
    "start, end = map(int, input().split())\n",
    "\n",
    "for i in range(start, end+1):\n",
    "    flag=0\n",
    "    for j in range(2, i):\n",
    "        if i%j==0:\n",
    "            flag = 1\n",
    "    if i!=1 and flag == 0:\n",
    "        print(i)"
   ]
  },
  {
   "cell_type": "markdown",
   "id": "a9f8e4b7",
   "metadata": {},
   "source": [
    "## 2) 에라토스테네스의 체\n",
    ":전체의 범위에서 합성수를 지우는 방식으로 소수를 찾는 방법\n",
    "\n",
    "에라토스테네스의 체 알고리즘의 구체적인 동작 과정은 다음과 같다\n",
    "2부터 𝑁까지의 모든 자연수를 나열한다\n",
    "남은 수 중에서 아직 처리하지 않은 가장 작은 수 𝑖를 찾는다\n",
    "남은 수 중에서 i의 배수를 모두 제거한다(𝑖는 제거하지 않는다)\n",
    "더 이상 반복할 수 없을 때까지 2번과 3번의 과정을 반복한다"
   ]
  },
  {
   "cell_type": "code",
   "execution_count": 20,
   "id": "6e958246",
   "metadata": {},
   "outputs": [
    {
     "name": "stdout",
     "output_type": "stream",
     "text": [
      "1 10\n",
      "2\n",
      "3\n",
      "5\n",
      "7\n"
     ]
    }
   ],
   "source": [
    "import math\n",
    "start, end = map(int, input().split())\n",
    "\n",
    "#array를 True로 초기화 \n",
    "prime = [False, False] + [True for i in range(end-1)]\n",
    "\n",
    "for i in range(2, int(math.sqrt(end)) + 1): # 2부터 n의 제곱근까지의 모든 수를 확인하며\n",
    "    if prime[i] == True: # i가 소수인 경우 (남은 수인 경우)\n",
    "        # i를 제외한 i의 모든 배수를 지우기\n",
    "        j = 2 \n",
    "        while i * j <= end:\n",
    "            prime[i * j] = False\n",
    "            j += 1\n",
    "\n",
    "count=0\n",
    "for i in range(start, end+1):\n",
    "    if prime[i]:\n",
    "        print(i)"
   ]
  },
  {
   "cell_type": "code",
   "execution_count": null,
   "id": "234c7ac5",
   "metadata": {},
   "outputs": [],
   "source": []
  }
 ],
 "metadata": {
  "kernelspec": {
   "display_name": "Python 3 (ipykernel)",
   "language": "python",
   "name": "python3"
  },
  "language_info": {
   "codemirror_mode": {
    "name": "ipython",
    "version": 3
   },
   "file_extension": ".py",
   "mimetype": "text/x-python",
   "name": "python",
   "nbconvert_exporter": "python",
   "pygments_lexer": "ipython3",
   "version": "3.8.16"
  }
 },
 "nbformat": 4,
 "nbformat_minor": 5
}
