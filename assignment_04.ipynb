{
 "cells": [
  {
   "cell_type": "code",
   "execution_count": 1,
   "id": "d9822074",
   "metadata": {},
   "outputs": [],
   "source": [
    "# import sys\n",
    "# sys.setrecursionlimit(10**7)\n",
    "\n",
    "# import sys\n",
    "# sys.setrecursionlimit(10**7)\n",
    "        \n",
    "# def function_g(n, G):\n",
    "#     sum = 0\n",
    "#     if n==1:\n",
    "#         return 1\n",
    "#     else:\n",
    "#         for i in range(2,n):\n",
    "#             if n%i==0:\n",
    "#                 sum += i\n",
    "#         sum += (n+1)\n",
    "\n",
    "#     if G[n-1] == 0:\n",
    "#         G[n-1] = function_g(n-1, G)\n",
    "        \n",
    "#     return sum + G[n-1]\n",
    "        \n",
    "# # 시간초과 해결하기 위해 입력 input대신 sys 내장함수 사용\n",
    "# n = int(input())\n",
    "# G = [0 for i in range(n+1)]\n",
    "\n",
    "# print(function_g(n, G))\n",
    "\n",
    "\n"
   ]
  },
  {
   "cell_type": "code",
   "execution_count": 2,
   "id": "1e9f6b26",
   "metadata": {},
   "outputs": [
    {
     "name": "stdout",
     "output_type": "stream",
     "text": [
      "10000\n"
     ]
    },
    {
     "ename": "RecursionError",
     "evalue": "maximum recursion depth exceeded in comparison",
     "output_type": "error",
     "traceback": [
      "\u001b[0;31m---------------------------------------------------------------------------\u001b[0m",
      "\u001b[0;31mRecursionError\u001b[0m                            Traceback (most recent call last)",
      "Cell \u001b[0;32mIn[2], line 24\u001b[0m\n\u001b[1;32m     21\u001b[0m n \u001b[38;5;241m=\u001b[39m \u001b[38;5;28mint\u001b[39m(\u001b[38;5;28minput\u001b[39m())\n\u001b[1;32m     22\u001b[0m G \u001b[38;5;241m=\u001b[39m [\u001b[38;5;241m0\u001b[39m \u001b[38;5;28;01mfor\u001b[39;00m i \u001b[38;5;129;01min\u001b[39;00m \u001b[38;5;28mrange\u001b[39m(n\u001b[38;5;241m+\u001b[39m\u001b[38;5;241m1\u001b[39m)]\n\u001b[0;32m---> 24\u001b[0m \u001b[38;5;28mprint\u001b[39m(\u001b[43mfunction_g\u001b[49m\u001b[43m(\u001b[49m\u001b[43mn\u001b[49m\u001b[43m,\u001b[49m\u001b[43m \u001b[49m\u001b[43mG\u001b[49m\u001b[43m)\u001b[49m)\n",
      "Cell \u001b[0;32mIn[2], line 16\u001b[0m, in \u001b[0;36mfunction_g\u001b[0;34m(n, G)\u001b[0m\n\u001b[1;32m     13\u001b[0m     \u001b[38;5;28;01mreturn\u001b[39;00m \u001b[38;5;241m1\u001b[39m\n\u001b[1;32m     15\u001b[0m \u001b[38;5;28;01mif\u001b[39;00m G[n\u001b[38;5;241m-\u001b[39m\u001b[38;5;241m1\u001b[39m] \u001b[38;5;241m==\u001b[39m \u001b[38;5;241m0\u001b[39m:\n\u001b[0;32m---> 16\u001b[0m     G[n\u001b[38;5;241m-\u001b[39m\u001b[38;5;241m1\u001b[39m] \u001b[38;5;241m=\u001b[39m \u001b[43mfunction_g\u001b[49m\u001b[43m(\u001b[49m\u001b[43mn\u001b[49m\u001b[38;5;241;43m-\u001b[39;49m\u001b[38;5;241;43m1\u001b[39;49m\u001b[43m,\u001b[49m\u001b[43m \u001b[49m\u001b[43mG\u001b[49m\u001b[43m)\u001b[49m\n\u001b[1;32m     18\u001b[0m \u001b[38;5;28;01mreturn\u001b[39;00m G[n\u001b[38;5;241m-\u001b[39m\u001b[38;5;241m1\u001b[39m] \u001b[38;5;241m+\u001b[39m function_f(n)\n",
      "Cell \u001b[0;32mIn[2], line 16\u001b[0m, in \u001b[0;36mfunction_g\u001b[0;34m(n, G)\u001b[0m\n\u001b[1;32m     13\u001b[0m     \u001b[38;5;28;01mreturn\u001b[39;00m \u001b[38;5;241m1\u001b[39m\n\u001b[1;32m     15\u001b[0m \u001b[38;5;28;01mif\u001b[39;00m G[n\u001b[38;5;241m-\u001b[39m\u001b[38;5;241m1\u001b[39m] \u001b[38;5;241m==\u001b[39m \u001b[38;5;241m0\u001b[39m:\n\u001b[0;32m---> 16\u001b[0m     G[n\u001b[38;5;241m-\u001b[39m\u001b[38;5;241m1\u001b[39m] \u001b[38;5;241m=\u001b[39m \u001b[43mfunction_g\u001b[49m\u001b[43m(\u001b[49m\u001b[43mn\u001b[49m\u001b[38;5;241;43m-\u001b[39;49m\u001b[38;5;241;43m1\u001b[39;49m\u001b[43m,\u001b[49m\u001b[43m \u001b[49m\u001b[43mG\u001b[49m\u001b[43m)\u001b[49m\n\u001b[1;32m     18\u001b[0m \u001b[38;5;28;01mreturn\u001b[39;00m G[n\u001b[38;5;241m-\u001b[39m\u001b[38;5;241m1\u001b[39m] \u001b[38;5;241m+\u001b[39m function_f(n)\n",
      "    \u001b[0;31m[... skipping similar frames: function_g at line 16 (2969 times)]\u001b[0m\n",
      "Cell \u001b[0;32mIn[2], line 16\u001b[0m, in \u001b[0;36mfunction_g\u001b[0;34m(n, G)\u001b[0m\n\u001b[1;32m     13\u001b[0m     \u001b[38;5;28;01mreturn\u001b[39;00m \u001b[38;5;241m1\u001b[39m\n\u001b[1;32m     15\u001b[0m \u001b[38;5;28;01mif\u001b[39;00m G[n\u001b[38;5;241m-\u001b[39m\u001b[38;5;241m1\u001b[39m] \u001b[38;5;241m==\u001b[39m \u001b[38;5;241m0\u001b[39m:\n\u001b[0;32m---> 16\u001b[0m     G[n\u001b[38;5;241m-\u001b[39m\u001b[38;5;241m1\u001b[39m] \u001b[38;5;241m=\u001b[39m \u001b[43mfunction_g\u001b[49m\u001b[43m(\u001b[49m\u001b[43mn\u001b[49m\u001b[38;5;241;43m-\u001b[39;49m\u001b[38;5;241;43m1\u001b[39;49m\u001b[43m,\u001b[49m\u001b[43m \u001b[49m\u001b[43mG\u001b[49m\u001b[43m)\u001b[49m\n\u001b[1;32m     18\u001b[0m \u001b[38;5;28;01mreturn\u001b[39;00m G[n\u001b[38;5;241m-\u001b[39m\u001b[38;5;241m1\u001b[39m] \u001b[38;5;241m+\u001b[39m function_f(n)\n",
      "Cell \u001b[0;32mIn[2], line 12\u001b[0m, in \u001b[0;36mfunction_g\u001b[0;34m(n, G)\u001b[0m\n\u001b[1;32m     11\u001b[0m \u001b[38;5;28;01mdef\u001b[39;00m \u001b[38;5;21mfunction_g\u001b[39m(n, G):\n\u001b[0;32m---> 12\u001b[0m     \u001b[38;5;28;01mif\u001b[39;00m \u001b[43mn\u001b[49m\u001b[38;5;241;43m==\u001b[39;49m\u001b[38;5;241;43m1\u001b[39;49m:\n\u001b[1;32m     13\u001b[0m         \u001b[38;5;28;01mreturn\u001b[39;00m \u001b[38;5;241m1\u001b[39m\n\u001b[1;32m     15\u001b[0m     \u001b[38;5;28;01mif\u001b[39;00m G[n\u001b[38;5;241m-\u001b[39m\u001b[38;5;241m1\u001b[39m] \u001b[38;5;241m==\u001b[39m \u001b[38;5;241m0\u001b[39m:\n",
      "\u001b[0;31mRecursionError\u001b[0m: maximum recursion depth exceeded in comparison"
     ]
    }
   ],
   "source": [
    "import sys\n",
    "sys.setrecursionlimit(10**7)\n",
    "\n",
    "def function_f(n):\n",
    "    sum = 0\n",
    "    if n==1:\n",
    "        return 1\n",
    "    else:\n",
    "        for i in range(1,n+1):\n",
    "            if n%i==0:\n",
    "                sum += i\n",
    "        return sum\n",
    "        \n",
    "def function_g(n, G):\n",
    "    if n==1:\n",
    "        return 1\n",
    "    \n",
    "    if G[n-1] == 0:\n",
    "        G[n-1] = function_g(n-1, G)\n",
    "        \n",
    "    return G[n-1] + function_f(n)\n",
    "        \n",
    "    \n",
    "n = int(input())\n",
    "G = [0 for i in range(n+1)]\n",
    "\n",
    "print(function_g(n, G))"
   ]
  },
  {
   "cell_type": "code",
   "execution_count": 4,
   "id": "2232225e",
   "metadata": {},
   "outputs": [
    {
     "name": "stdout",
     "output_type": "stream",
     "text": [
      "10000\n",
      "82256014\n"
     ]
    }
   ],
   "source": [
    "def function_f(n):\n",
    "    sum = 0\n",
    "    if n==1:\n",
    "        return 1\n",
    "    else:\n",
    "        for i in range(1,n+1):\n",
    "            if n%i==0:\n",
    "                sum += i\n",
    "        return sum\n",
    "        \n",
    "def function_g(n):\n",
    "    total = 0\n",
    "    for i in range (1, n+1):\n",
    "        total += function_f(i)\n",
    "    return total\n",
    "    \n",
    "n = int(input())\n",
    "print(function_g(n))"
   ]
  },
  {
   "cell_type": "markdown",
   "id": "b5562481",
   "metadata": {},
   "source": [
    "## 시간복잡도 check\n",
    "입력값의 범위가 1부터 1,000,000 일때\n",
    "빅o의 n은 최악의 경우 백만번, 평균적으로는 50만번(n/2) 수행\n",
    "\n",
    "위 문제의 경우 제한시간 0.5초를 넘기면 안되기 때문에 내가 짠 코드의 수행시간을 어림 짐작하는 것이 필요!\n",
    "\n",
    "수행시간 어림 짐작하기\n",
    "> 알고리즘이 이 문제를 해결할 수 있을지 알기 위해서는 프로그램을 작성하기 전에 입력의 최대 크기와 알고리즘의 시간 복잡도를 보고 수행 시간을 어림짐작할 수 있어야 합니다\n",
    "\n",
    "### 주먹구구 법칙\n",
    "> 입력의 크기를 시간 복잡도에 대입해서 얻은 반복문 수행 횟수에 대해, 1초 당 반복문 수행 횟수가 1억($10^8$)을 넘어가면 시간 제한을 초과할 가능성이 있다.\n",
    "\n",
    "대략 컴퓨터가 1초에 1억번(10의 9승) 처리 가능\n",
    "지금 범위가 1,000,000 (10의 6승)이므로 무조건 O(n)이상의 알고리즘 필요 (O(n^2)이 되는 순간 시간초과...)\n",
    "O(n), O(logn) ... -> 반복문 한개 써라 -> 재귀나 순환 말고 너가 직접 나열해서 수학적 규칙 찾아라"
   ]
  },
  {
   "cell_type": "code",
   "execution_count": 9,
   "id": "e993f499",
   "metadata": {},
   "outputs": [
    {
     "name": "stdout",
     "output_type": "stream",
     "text": [
      "10000\n",
      "82256014\n"
     ]
    }
   ],
   "source": [
    "n = int(input())\n",
    "sum = 0\n",
    "for i in range (1, n+1):\n",
    "    sum+=i*(n//i)\n",
    "print(sum)"
   ]
  },
  {
   "cell_type": "code",
   "execution_count": null,
   "id": "38ae41af",
   "metadata": {},
   "outputs": [],
   "source": []
  }
 ],
 "metadata": {
  "kernelspec": {
   "display_name": "Python 3 (ipykernel)",
   "language": "python",
   "name": "python3"
  },
  "language_info": {
   "codemirror_mode": {
    "name": "ipython",
    "version": 3
   },
   "file_extension": ".py",
   "mimetype": "text/x-python",
   "name": "python",
   "nbconvert_exporter": "python",
   "pygments_lexer": "ipython3",
   "version": "3.8.16"
  }
 },
 "nbformat": 4,
 "nbformat_minor": 5
}
