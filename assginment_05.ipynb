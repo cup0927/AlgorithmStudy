{
 "cells": [
  {
   "cell_type": "code",
   "execution_count": 1,
   "id": "98b8b295",
   "metadata": {},
   "outputs": [
    {
     "name": "stdout",
     "output_type": "stream",
     "text": [
      "5 1 2 10 70 10000\n"
     ]
    }
   ],
   "source": [
    "# n = int(input())\n",
    "# sum = 0\n",
    "# for i in range (1, n+1):\n",
    "#     sum+=i*(n//i)\n",
    "# print(sum)\n",
    "\n",
    "input_numbers = list(map(int, input().split()))\n",
    "count = input_numbers.pop(0)\n",
    "\n",
    "temp = []\n",
    "sum = 0\n",
    "for i in range (1, count+1):\n",
    "    if not temp:\n",
    "        temp = input_numbers.pop(0)\n",
    "    sum+=i*(temp//i)\n",
    "print(sum)"
   ]
  },
  {
   "cell_type": "code",
   "execution_count": null,
   "id": "f2d9a073",
   "metadata": {},
   "outputs": [],
   "source": []
  }
 ],
 "metadata": {
  "kernelspec": {
   "display_name": "Python 3 (ipykernel)",
   "language": "python",
   "name": "python3"
  },
  "language_info": {
   "codemirror_mode": {
    "name": "ipython",
    "version": 3
   },
   "file_extension": ".py",
   "mimetype": "text/x-python",
   "name": "python",
   "nbconvert_exporter": "python",
   "pygments_lexer": "ipython3",
   "version": "3.8.16"
  }
 },
 "nbformat": 4,
 "nbformat_minor": 5
}
