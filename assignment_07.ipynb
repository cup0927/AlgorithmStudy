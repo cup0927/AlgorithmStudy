{
 "cells": [
  {
   "cell_type": "code",
   "execution_count": 1,
   "id": "6b902ee2",
   "metadata": {},
   "outputs": [],
   "source": [
    "# #number = int(input())\n",
    "# count = 0\n",
    "# while True:\n",
    "#     try:\n",
    "#         n = int(input())\n",
    "#     except:\n",
    "#         break\n",
    "        \n",
    "#     while True:\n",
    "#         flag=2\n",
    "#         for i in range(2, n):\n",
    "#             flag+=1\n",
    "#             if(n%i==0):\n",
    "#                 break\n",
    "#         if(flag==n):\n",
    "#             count+=1\n",
    "# print(count)"
   ]
  },
  {
   "cell_type": "code",
   "execution_count": 4,
   "id": "3867c71b",
   "metadata": {},
   "outputs": [
    {
     "name": "stdout",
     "output_type": "stream",
     "text": [
      "10\n",
      "1 2 3 4 5 6 7 8 9 10\n",
      "4\n"
     ]
    }
   ],
   "source": [
    "number = int(input())\n",
    "prime = list(map(int, input().split()))\n",
    "\n",
    "count=0\n",
    "for i in prime:\n",
    "    flag=0\n",
    "    for k in range(2, i):\n",
    "        if (i % k == 0):\n",
    "            flag = 1\n",
    "    if i !=1 and flag == 0 :\n",
    "        count +=1\n",
    "print(count)\n"
   ]
  },
  {
   "cell_type": "code",
   "execution_count": null,
   "id": "604462b3",
   "metadata": {},
   "outputs": [],
   "source": []
  },
  {
   "cell_type": "code",
   "execution_count": null,
   "id": "c5e4b761",
   "metadata": {},
   "outputs": [],
   "source": []
  }
 ],
 "metadata": {
  "kernelspec": {
   "display_name": "Python 3 (ipykernel)",
   "language": "python",
   "name": "python3"
  },
  "language_info": {
   "codemirror_mode": {
    "name": "ipython",
    "version": 3
   },
   "file_extension": ".py",
   "mimetype": "text/x-python",
   "name": "python",
   "nbconvert_exporter": "python",
   "pygments_lexer": "ipython3",
   "version": "3.8.16"
  }
 },
 "nbformat": 4,
 "nbformat_minor": 5
}
