{
 "cells": [
  {
   "cell_type": "code",
   "execution_count": 3,
   "id": "1e32cafb",
   "metadata": {},
   "outputs": [
    {
     "name": "stdout",
     "output_type": "stream",
     "text": [
      "20\n",
      "7\n",
      "23\n",
      "19\n",
      "10\n",
      "15\n",
      "25\n",
      "8\n",
      "13\n",
      "7\n",
      "8\n",
      "10\n",
      "13\n",
      "19\n",
      "20\n",
      "23\n"
     ]
    }
   ],
   "source": [
    "# import math\n",
    "\n",
    "# heights = list(map(int, input().split()))\n",
    "\n",
    "# for i in range(0,len(heights)):\n",
    "#     for j in range(0, 8):\n",
    "#         temp = (heights[i] + heights[i+1])\n",
    "#         if temp == sum(heights) - 100:\n",
    "#             del heights[i]\n",
    "#             del heights[i+1]\n",
    "        \n",
    "# for i in sorted(heights):\n",
    "#     print(i)\n",
    "\n",
    "\n",
    "heights = []\n",
    "for i in range(9):\n",
    "    heights.append(int(input()))\n",
    "\n",
    "heights.sort()\n",
    "\n",
    "# 만약 모두다 더하고 2명을 뺐을 때 그 값이 100이라면 2개를 뺀 나머지 값들 출력\n",
    "for i in range(len(heights)):\n",
    "    for j in range(i + 1, len(heights)):\n",
    "        if sum(heights) - 100 == heights[i] + heights[j]:\n",
    "            for k in range(len(heights)):\n",
    "                if k != i and k != j:\n",
    "                    print(heights[k])\n",
    "            exit() "
   ]
  },
  {
   "cell_type": "markdown",
   "id": "277110d1",
   "metadata": {},
   "source": [
    "부르트포스 알고리즘 -> 너비 우선 탐색"
   ]
  },
  {
   "cell_type": "code",
   "execution_count": null,
   "id": "8af917a4",
   "metadata": {},
   "outputs": [],
   "source": []
  },
  {
   "cell_type": "code",
   "execution_count": null,
   "id": "7df9dfe5",
   "metadata": {},
   "outputs": [],
   "source": []
  },
  {
   "cell_type": "code",
   "execution_count": null,
   "id": "c5b10ee2",
   "metadata": {},
   "outputs": [],
   "source": []
  },
  {
   "cell_type": "code",
   "execution_count": null,
   "id": "9196a7d1",
   "metadata": {},
   "outputs": [],
   "source": []
  },
  {
   "cell_type": "code",
   "execution_count": null,
   "id": "351cf19f",
   "metadata": {},
   "outputs": [],
   "source": []
  }
 ],
 "metadata": {
  "kernelspec": {
   "display_name": "Python 3 (ipykernel)",
   "language": "python",
   "name": "python3"
  },
  "language_info": {
   "codemirror_mode": {
    "name": "ipython",
    "version": 3
   },
   "file_extension": ".py",
   "mimetype": "text/x-python",
   "name": "python",
   "nbconvert_exporter": "python",
   "pygments_lexer": "ipython3",
   "version": "3.8.16"
  }
 },
 "nbformat": 4,
 "nbformat_minor": 5
}
