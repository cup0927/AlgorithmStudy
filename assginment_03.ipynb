{
 "cells": [
  {
   "cell_type": "code",
   "execution_count": null,
   "id": "72123ce0",
   "metadata": {},
   "outputs": [],
   "source": [
    "def find_Divisor(number, divisor_list):\n",
    "    divisor_list.sort()\n",
    "    \n",
    "    #진짜 약수의 개수가 1일때\n",
    "    if (number==1):\n",
    "        print(divisor_list[0] ** 2)\n",
    "    #이외\n",
    "    else:\n",
    "        print(divisor_list[0] * divisor_list[number-1])      \n",
    "    \n",
    "number = (int)(input())\n",
    "divisor_list = list(map(int, input().split()))\n",
    "\n",
    "find_Divisor(number, divisor_list)"
   ]
  },
  {
   "cell_type": "code",
   "execution_count": null,
   "id": "415aaecf",
   "metadata": {},
   "outputs": [],
   "source": []
  },
  {
   "cell_type": "code",
   "execution_count": null,
   "id": "598d2ed9",
   "metadata": {},
   "outputs": [],
   "source": []
  },
  {
   "cell_type": "code",
   "execution_count": null,
   "id": "9274200f",
   "metadata": {},
   "outputs": [],
   "source": []
  },
  {
   "cell_type": "code",
   "execution_count": null,
   "id": "dbd0ab83",
   "metadata": {},
   "outputs": [],
   "source": []
  }
 ],
 "metadata": {
  "kernelspec": {
   "display_name": "Python 3 (ipykernel)",
   "language": "python",
   "name": "python3"
  },
  "language_info": {
   "codemirror_mode": {
    "name": "ipython",
    "version": 3
   },
   "file_extension": ".py",
   "mimetype": "text/x-python",
   "name": "python",
   "nbconvert_exporter": "python",
   "pygments_lexer": "ipython3",
   "version": "3.8.16"
  }
 },
 "nbformat": 4,
 "nbformat_minor": 5
}
