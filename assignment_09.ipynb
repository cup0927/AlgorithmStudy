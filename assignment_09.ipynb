{
 "cells": [
  {
   "cell_type": "code",
   "execution_count": 3,
   "id": "74ad1d7c",
   "metadata": {},
   "outputs": [],
   "source": [
    "import sys\n",
    "def get_prime():\n",
    "    d = dict()\n",
    "    result = []\n",
    "    for i in range(2, 1000001):\n",
    "        if i % 2 != 1:\n",
    "            d[i] = False\n",
    "        else:\n",
    "            d[i] = True\n",
    "    for temp in range(2, int(1000001 ** 0.5) + 1):\n",
    "        if not d[temp]:\n",
    "            continue\n",
    "        ind = 2\n",
    "        while temp * ind <= 1000000:\n",
    "            ind += 1\n",
    "            d[temp * ind] = False\n",
    "    for i in range(2, 1000001):\n",
    "        if d[i]:\n",
    "            result.append(i)\n",
    "    return [result, d]\n",
    "\n",
    "\n",
    "if __name__ == \"__main__\":\n",
    "    sosu, d = get_prime()\n",
    "    while True:\n",
    "        N = int(sys.stdin.readline())\n",
    "        flag = False\n",
    "        if N == 0:\n",
    "            break\n",
    "        for s in sosu:\n",
    "            if s >= (N // 2) + 1:\n",
    "                break\n",
    "            if d[N - s]:\n",
    "                print(f'{N} = {s} + {N - s}')\n",
    "                flag = True\n",
    "                break\n",
    "        if not flag:\n",
    "            print(\"Goldbach's conjecture is wrong.\")"
   ]
  },
  {
   "cell_type": "code",
   "execution_count": null,
   "id": "ac1e9874",
   "metadata": {},
   "outputs": [],
   "source": []
  }
 ],
 "metadata": {
  "kernelspec": {
   "display_name": "Python 3 (ipykernel)",
   "language": "python",
   "name": "python3"
  },
  "language_info": {
   "codemirror_mode": {
    "name": "ipython",
    "version": 3
   },
   "file_extension": ".py",
   "mimetype": "text/x-python",
   "name": "python",
   "nbconvert_exporter": "python",
   "pygments_lexer": "ipython3",
   "version": "3.8.16"
  }
 },
 "nbformat": 4,
 "nbformat_minor": 5
}
