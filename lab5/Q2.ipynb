{
 "cells": [
  {
   "cell_type": "markdown",
   "id": "ca69c811",
   "metadata": {},
   "source": [
    "8명이 악수할 수 있는 경우의수, memoization이나 dp사용"
   ]
  },
  {
   "cell_type": "code",
   "execution_count": null,
   "id": "217ac0f1",
   "metadata": {},
   "outputs": [],
   "source": []
  }
 ],
 "metadata": {
  "kernelspec": {
   "display_name": "Python 3 (ipykernel)",
   "language": "python",
   "name": "python3"
  },
  "language_info": {
   "codemirror_mode": {
    "name": "ipython",
    "version": 3
   },
   "file_extension": ".py",
   "mimetype": "text/x-python",
   "name": "python",
   "nbconvert_exporter": "python",
   "pygments_lexer": "ipython3",
   "version": "3.8.16"
  }
 },
 "nbformat": 4,
 "nbformat_minor": 5
}
