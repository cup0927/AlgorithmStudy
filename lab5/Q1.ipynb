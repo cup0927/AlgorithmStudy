{
 "cells": [
  {
   "cell_type": "markdown",
   "id": "6fa65913",
   "metadata": {},
   "source": [
    "## Q1. 연속된 수\n",
    "\n",
    "• 봉순이는 임의의 양의 자연수를 입력 받아 1~n까지의 연속된 수열을 이용하여 입력 받은 숫자를 표현하고 싶어졌다. \n",
    "이 때 수열을 이루는 숫자는 -/+ 의 부호를 가지며 반드시 1번씩 나와야 한다. 예들 들어 8을 입력 받으면 -1+2+3+4 로 출력되어야 한다. 그런데 입력 숫자에 따라 복수 개의 수식으로 표현될수 있다.\n",
    "– 예를 들어 7은 -1+2-3+4+5, +1+2+3-4+5 와 같이 두 수식으로 표현된다.\n",
    "– 또한, 1+2-3+4+5+6-7+8-9 도 가능하다.\n",
    "\n",
    "• 임의의 숫자를 입력 받아 앞에서 설명한 수식 중의 하나로 표현해주는 프로그램을 작성하시오. 복수 개가 가능하면 숫자의 개수가 제일 작은 것 중의 하나면 된다.\n",
    "• 예) 7\n",
    "– -1+2-3+4+5 혹은\n",
    "– +1+2+3-4+5 으로 출력"
   ]
  },
  {
   "cell_type": "code",
   "execution_count": null,
   "id": "210272de",
   "metadata": {},
   "outputs": [],
   "source": []
  },
  {
   "cell_type": "code",
   "execution_count": null,
   "id": "169d1bc9",
   "metadata": {},
   "outputs": [],
   "source": []
  },
  {
   "cell_type": "code",
   "execution_count": null,
   "id": "e1ff194c",
   "metadata": {},
   "outputs": [],
   "source": [
    "# pick 사용해서 풀기 \n",
    "\n",
    "n = input('')\n",
    "\n",
    "def pick(bucketSize, k, i):\n",
    "    lastIndex = k - bucketSize\n",
    "    \n",
    "    "
   ]
  },
  {
   "cell_type": "markdown",
   "id": "78acda0e",
   "metadata": {},
   "source": [
    "3개의 숫자부터 1이 되는 것 "
   ]
  }
 ],
 "metadata": {
  "kernelspec": {
   "display_name": "Python 3 (ipykernel)",
   "language": "python",
   "name": "python3"
  },
  "language_info": {
   "codemirror_mode": {
    "name": "ipython",
    "version": 3
   },
   "file_extension": ".py",
   "mimetype": "text/x-python",
   "name": "python",
   "nbconvert_exporter": "python",
   "pygments_lexer": "ipython3",
   "version": "3.8.16"
  }
 },
 "nbformat": 4,
 "nbformat_minor": 5
}
